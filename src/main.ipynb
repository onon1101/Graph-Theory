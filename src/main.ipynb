{
 "cells": [
  {
   "cell_type": "code",
   "execution_count": 1,
   "outputs": [],
   "source": [
    "import numpy\n",
    "import random\n",
    "import matplotlib.pyplot as plt\n",
    "import matplotlib.animation as animation"
   ],
   "metadata": {
    "collapsed": false,
    "ExecuteTime": {
     "end_time": "2023-12-03T02:52:06.930631Z",
     "start_time": "2023-12-03T02:52:06.650316Z"
    }
   },
   "id": "3506bf6cd94716f1"
  },
  {
   "cell_type": "code",
   "execution_count": 2,
   "id": "initial_id",
   "metadata": {
    "collapsed": true,
    "ExecuteTime": {
     "end_time": "2023-12-03T02:52:06.933956Z",
     "start_time": "2023-12-03T02:52:06.931461Z"
    }
   },
   "outputs": [],
   "source": [
    "maze = [\n",
    "    [0, 1, 1, 1, 1],\n",
    "    [0, 1, 1, 1, 0],\n",
    "    [0, 1, 0, 1, 0],\n",
    "    [0, 1, 1, 1, 0],\n",
    "    [1, 1, 1, 1, 0],\n",
    "]\n",
    "\n",
    "path = [\n",
    "    (4, 0),\n",
    "    (4, 1),\n",
    "    (3, 1),\n",
    "    (2, 1),\n",
    "    (1, 1),\n",
    "    (0, 1),\n",
    "    (0, 2),\n",
    "    (0, 3),\n",
    "    (0, 4)\n",
    "]"
   ]
  },
  {
   "cell_type": "code",
   "execution_count": 31,
   "outputs": [
    {
     "data": {
      "text/plain": "<Figure size 1000x1000 with 1 Axes>",
      "image/png": "[encoded data removed]"
     },
     "metadata": {},
     "output_type": "display_data"
    }
   ],
   "source": [
    "fig, ax = plt.subplots(figsize=(10, 10))\n",
    "\n",
    "# 設定框架\n",
    "fig.patch.set_edgecolor('white')\n",
    "fig.patch.set_linewidth(0)\n",
    "\n",
    "# 顯示地圖\n",
    "ax.imshow(\n",
    "    maze,\n",
    "    cmap=plt.cm.binary,\n",
    "    interpolation='nearest'\n",
    ")\n",
    "\n",
    "# 顯示走過的路徑\n",
    "# if path is not None:\n",
    "#     x_coords = [x[1] for x in path]\n",
    "#     y_coords = [y[0] for y in path]\n",
    "#     ax.plot(\n",
    "#         x_coords,\n",
    "#         y_coords,\n",
    "#         color='red',\n",
    "#         linewidth=2,\n",
    "#     )\n",
    "\n",
    "x, y = [], []\n",
    "line, = ax.plot(x, y, color='red')\n",
    "\n",
    "def run(data):\n",
    "    x.append(data[0])\n",
    "    y.append(data[1])\n",
    "    line.set_data(y, x)\n",
    "    # ax.scatter(x, y)\n",
    "    \n",
    "animate = animation.FuncAnimation(\n",
    "    fig,\n",
    "    run,\n",
    "    frames=path,\n",
    "    interval=3\n",
    ")\n",
    "\n",
    "\n",
    "\n",
    "# 顯示進入與離開的箭頭\n",
    "ax.arrow(\n",
    "    0, 4, .1, 0,\n",
    "    fc='green',\n",
    "    ec='green',\n",
    "    head_width=0.3,\n",
    "    head_length=0.3,\n",
    ")\n",
    "\n",
    "# ax.arrow(\n",
    "#     \n",
    "# )\n",
    "\n",
    "ax.set_xticks([])\n",
    "ax.set_yticks([])\n",
    "    \n",
    "# animate.save('../dist/test.mp4', fps=30)\n",
    "animate.save('../dist/test.gif')\n",
    "plt.show()"
   ],
   "metadata": {
    "collapsed": false,
    "ExecuteTime": {
     "end_time": "2023-12-03T03:09:10.016635Z",
     "start_time": "2023-12-03T03:09:09.484737Z"
    }
   },
   "id": "6cc6a3a644b33be8"
  },
  {
   "cell_type": "code",
   "execution_count": 28,
   "outputs": [],
   "source": [
    "# import math\n",
    "# import matplotlib.pyplot as plt\n",
    "# import matplotlib.animation as animation\n",
    "# \n",
    "# fig, ax = plt.subplots()       # 建立單一圖表\n",
    "# ax.set_xlim(0,20)              # x 座標範圍設定 0～20\n",
    "# ax.set_ylim(-1.5,1.5)          # y 座標範圍設定 -1.5～1.5\n",
    "# \n",
    "# n = [i/5 for i in range(100)]  # 使用串列升成式產生 0～20 共 100 筆資料\n",
    "# x, y = [], []                  # 設定 x 和 y 變數為空串列\n",
    "# line, = ax.plot(x, y)          # 定義 line 變數為折線圖物件 ( 注意 line 後方有逗號 )\n",
    "# \n",
    "# print(n)\n",
    "# \n",
    "# def run(data):\n",
    "#     x.append(data)             # 添加 x 資料點\n",
    "#     y.append(math.sin(data))   # 添加 y 資料點\n",
    "#     line.set_data(x, y)        # 重新設定資料點\n",
    "# \n",
    "# ani = animation.FuncAnimation(fig, run, frames=n, interval=30)\n",
    "# # ani.save('animation.mp4', fps=30)\n",
    "# plt.show()"
   ],
   "metadata": {
    "collapsed": false,
    "ExecuteTime": {
     "end_time": "2023-12-03T03:07:32.271965Z",
     "start_time": "2023-12-03T03:07:32.268630Z"
    }
   },
   "id": "20de58c48c9a3fac"
  },
  {
   "cell_type": "code",
   "execution_count": null,
   "outputs": [],
   "source": [],
   "metadata": {
    "collapsed": false,
    "ExecuteTime": {
     "start_time": "2023-12-03T02:52:07.315217Z"
    }
   },
   "id": "75c082f95ee21c0d"
  }
 ],
 "metadata": {
  "kernelspec": {
   "display_name": "Python 3",
   "language": "python",
   "name": "python3"
  },
  "language_info": {
   "codemirror_mode": {
    "name": "ipython",
    "version": 2
   },
   "file_extension": ".py",
   "mimetype": "text/x-python",
   "name": "python",
   "nbconvert_exporter": "python",
   "pygments_lexer": "ipython2",
   "version": "2.7.6"
  }
 },
 "nbformat": 4,
 "nbformat_minor": 5
}
